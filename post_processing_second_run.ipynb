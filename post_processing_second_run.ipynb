{
 "cells": [
  {
   "cell_type": "code",
   "execution_count": 5,
   "metadata": {},
   "outputs": [],
   "source": [
    "import openmc\n",
    "import numpy as np"
   ]
  },
  {
   "cell_type": "code",
   "execution_count": 20,
   "metadata": {},
   "outputs": [],
   "source": [
    "# some constants\n",
    "thermal_power = 354e6 #watts, J/s\n",
    "eV_to_J = 1.60218e-19 #joules/eV\n",
    "average_neutron_energy = 2e6*eV_to_J #J/n, doesn't really matter for heating\n",
    "neutrons_per_second = thermal_power/average_neutron_energy #n/s"
   ]
  },
  {
   "cell_type": "code",
   "execution_count": 17,
   "metadata": {},
   "outputs": [],
   "source": [
    "with openmc.StatePoint('hpc_run_40_4_23.h5') as sp:\n",
    "    fuel_flux_tally = sp.get_tally(name='Flux')\n",
    "    fuel_heating_tally = sp.get_tally(name='Heating')\n",
    "    axial_flux_tally = sp.get_tally(name='Axial Flux Tally')\n",
    "    runtime = sp.runtime\n",
    "    particles = sp.n_particles\n",
    "    batches = sp.n_batches"
   ]
  },
  {
   "cell_type": "code",
   "execution_count": 19,
   "metadata": {},
   "outputs": [
    {
     "data": {
      "text/plain": [
       "13515.958515967832"
      ]
     },
     "execution_count": 19,
     "metadata": {},
     "output_type": "execute_result"
    }
   ],
   "source": [
    "time = runtime['total']\n",
    "pps = (particles*batches)/time\n",
    "pps"
   ]
  },
  {
   "cell_type": "code",
   "execution_count": 12,
   "metadata": {},
   "outputs": [
    {
     "data": {
      "text/plain": [
       "0.11383596436116629"
      ]
     },
     "execution_count": 12,
     "metadata": {},
     "output_type": "execute_result"
    }
   ],
   "source": [
    "fuel_flux_mean = fuel_flux_tally.get_reshaped_data('mean')\n",
    "fuel_flux_stddev = fuel_flux_tally.get_reshaped_data('std_dev')\n",
    "fuel_flux_rel_err = fuel_flux_stddev/fuel_flux_mean\n",
    "np.max(fuel_flux_rel_err)"
   ]
  },
  {
   "cell_type": "code",
   "execution_count": 22,
   "metadata": {},
   "outputs": [
    {
     "data": {
      "text/plain": [
       "0.0017461287546891413"
      ]
     },
     "execution_count": 22,
     "metadata": {},
     "output_type": "execute_result"
    }
   ],
   "source": [
    "fuel_heating_mean = fuel_heating_tally.get_reshaped_data('mean').flatten() #eV/source\n",
    "total_heating = np.sum(fuel_heating_mean) #eV/source\n",
    "fuel_heating_watts = (fuel_heating_mean/total_heating)*thermal_power #percent of total heating/source, or heating per element, watts\n",
    "\n",
    "\n",
    "fuel_heating_stddev = fuel_heating_tally.get_reshaped_data('std_dev').flatten()\n",
    "fuel_heating_rel_err = fuel_heating_stddev/fuel_heating_mean\n",
    "np.max(fuel_heating_rel_err) "
   ]
  },
  {
   "cell_type": "code",
   "execution_count": 23,
   "metadata": {},
   "outputs": [
    {
     "data": {
      "text/plain": [
       "735244.1775954625"
      ]
     },
     "execution_count": 23,
     "metadata": {},
     "output_type": "execute_result"
    }
   ],
   "source": [
    "fuel_heating_watts.max()"
   ]
  },
  {
   "cell_type": "code",
   "execution_count": 21,
   "metadata": {},
   "outputs": [
    {
     "data": {
      "text/plain": [
       "(564, 1, 1)"
      ]
     },
     "execution_count": 21,
     "metadata": {},
     "output_type": "execute_result"
    }
   ],
   "source": [
    "fuel_heating_mean.shape"
   ]
  },
  {
   "cell_type": "code",
   "execution_count": 13,
   "metadata": {},
   "outputs": [
    {
     "data": {
      "text/plain": [
       "0.014183879157284161"
      ]
     },
     "execution_count": 13,
     "metadata": {},
     "output_type": "execute_result"
    }
   ],
   "source": [
    "axial_flux_mean = axial_flux_tally.get_reshaped_data('mean')\n",
    "axial_flux_stddev = axial_flux_tally.get_reshaped_data('std_dev')\n",
    "axial_flux_rel_err = axial_flux_stddev/axial_flux_mean\n",
    "np.max(axial_flux_rel_err)"
   ]
  }
 ],
 "metadata": {
  "kernelspec": {
   "display_name": "Python 3",
   "language": "python",
   "name": "python3"
  },
  "language_info": {
   "codemirror_mode": {
    "name": "ipython",
    "version": 3
   },
   "file_extension": ".py",
   "mimetype": "text/x-python",
   "name": "python",
   "nbconvert_exporter": "python",
   "pygments_lexer": "ipython3",
   "version": "3.12.1"
  }
 },
 "nbformat": 4,
 "nbformat_minor": 2
}
